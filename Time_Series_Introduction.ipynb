{
  "nbformat": 4,
  "nbformat_minor": 0,
  "metadata": {
    "colab": {
      "provenance": [],
      "authorship_tag": "ABX9TyNuOMhoNjBj34RGL4sMUXms",
      "include_colab_link": true
    },
    "kernelspec": {
      "name": "python3",
      "display_name": "Python 3"
    },
    "language_info": {
      "name": "python"
    }
  },
  "cells": [
    {
      "cell_type": "markdown",
      "metadata": {
        "id": "view-in-github",
        "colab_type": "text"
      },
      "source": [
        "<a href=\"https://colab.research.google.com/github/HenintsoaHARINORO/Time-Series-Analysis/blob/main/Time_Series_Introduction.ipynb\" target=\"_parent\"><img src=\"https://colab.research.google.com/assets/colab-badge.svg\" alt=\"Open In Colab\"/></a>"
      ]
    },
    {
      "cell_type": "markdown",
      "source": [
        "Time series: set of data points ordered in time"
      ],
      "metadata": {
        "id": "q1sWX_u2n9PI"
      }
    },
    {
      "cell_type": "markdown",
      "source": [
        "Components of a time series\n",
        "\n",
        "\n",
        "*   Trend: long term change in the mean of the time series (can be linear/not linear)     \n",
        "\n",
        "        *   Upward trend\n",
        "        *   Downward trend\n",
        "\n",
        "*   Seasonal: repetitive fluctuations, seasonal pattern\n",
        "*   Cyclical:  similar like seasonal but irregular\n",
        "*   Irregular: residual/error term\n",
        "\n",
        "Additive Y = Trend + Seasonal + Cyclical + Irregular\n",
        "\n",
        "Multiplicative Y = Trend * Seasonal * Cyclical * Irregular"
      ],
      "metadata": {
        "id": "WnUFzxPgjLax"
      }
    },
    {
      "cell_type": "markdown",
      "source": [
        "Steps\n",
        "\n",
        "\n",
        "1.  Set a goal\n",
        "2.  What must be forecast in order to achieve the goal\n",
        "3.   Horizon (the period of time to predict)\n",
        "4.   Gather the data\n",
        "5.   Forecasting Model\n",
        "\n",
        "\n",
        "\n",
        "\n",
        "\n",
        "\n"
      ],
      "metadata": {
        "id": "Lw0EG2dmoqdF"
      }
    },
    {
      "cell_type": "markdown",
      "source": [
        "\n",
        "Properties of time series\n",
        "*   have order\n",
        "*   do not have features\n",
        "\n",
        "\n"
      ],
      "metadata": {
        "id": "MVsSgezYpi7H"
      }
    }
  ]
}