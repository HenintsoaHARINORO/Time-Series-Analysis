{
  "nbformat": 4,
  "nbformat_minor": 0,
  "metadata": {
    "colab": {
      "provenance": [],
      "authorship_tag": "ABX9TyPbkrhBbUn2w5376sX5t0Kr",
      "include_colab_link": true
    },
    "kernelspec": {
      "name": "python3",
      "display_name": "Python 3"
    },
    "language_info": {
      "name": "python"
    }
  },
  "cells": [
    {
      "cell_type": "markdown",
      "metadata": {
        "id": "view-in-github",
        "colab_type": "text"
      },
      "source": [
        "<a href=\"https://colab.research.google.com/github/HenintsoaHARINORO/Time-Series-Analysis/blob/main/Time_Series_forecasting.ipynb\" target=\"_parent\"><img src=\"https://colab.research.google.com/assets/colab-badge.svg\" alt=\"Open In Colab\"/></a>"
      ]
    },
    {
      "cell_type": "markdown",
      "source": [
        "Import the dataset"
      ],
      "metadata": {
        "id": "76giRmAbha8j"
      }
    },
    {
      "cell_type": "code",
      "source": [
        "import pandas as pd\n"
      ],
      "metadata": {
        "id": "vmfKOuAUhlo7"
      },
      "execution_count": 2,
      "outputs": []
    },
    {
      "cell_type": "markdown",
      "source": [
        "Components of a time series\n",
        "\n",
        "\n",
        "*   Trend: long term change in the mean of the time series (can be linear/not linear)     \n",
        "\n",
        "        *   Upward trend\n",
        "        *   Downward trend\n",
        "\n",
        "*   Seasonal: repetitive fluctuations\n",
        "*   Cyclical:  similar like seasonal but irregular\n",
        "*   Irregular: residual/error term\n",
        "\n",
        "Additive Y = Trend + Seasonal + Cyclical + Irregular\n",
        "\n",
        "Multiplicative Y = Trend * Seasonal * Cyclical * Irregular"
      ],
      "metadata": {
        "id": "WnUFzxPgjLax"
      }
    },
    {
      "cell_type": "code",
      "source": [],
      "metadata": {
        "id": "dAymN8WfjLKr"
      },
      "execution_count": null,
      "outputs": []
    }
  ]
}