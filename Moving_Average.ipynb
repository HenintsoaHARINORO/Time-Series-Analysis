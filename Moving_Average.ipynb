{
  "nbformat": 4,
  "nbformat_minor": 0,
  "metadata": {
    "colab": {
      "provenance": [],
      "authorship_tag": "ABX9TyPFuWP1UOGze40uQJ/DWo5v",
      "include_colab_link": true
    },
    "kernelspec": {
      "name": "python3",
      "display_name": "Python 3"
    },
    "language_info": {
      "name": "python"
    }
  },
  "cells": [
    {
      "cell_type": "markdown",
      "metadata": {
        "id": "view-in-github",
        "colab_type": "text"
      },
      "source": [
        "<a href=\"https://colab.research.google.com/github/HenintsoaHARINORO/Time-Series-Analysis/blob/main/Moving_Average.ipynb\" target=\"_parent\"><img src=\"https://colab.research.google.com/assets/colab-badge.svg\" alt=\"Open In Colab\"/></a>"
      ]
    },
    {
      "cell_type": "markdown",
      "source": [
        "## Moving Average"
      ],
      "metadata": {
        "id": "DfoteptI-G1D"
      }
    },
    {
      "cell_type": "markdown",
      "source": [
        "A moving average process states that the current value depends linearly on the mean of the series, the current error term, and past error terms.\n",
        "\n",
        "MA(q), where q is the order\n",
        "\n",
        "$$y_t = μ + ϵ_t + θ_1ϵ_{t−1 }+ θ_2ϵ_{t−2} +⋅⋅⋅+ θ_qϵ_{t−q } $$\n",
        "μ : mean  of the series\n",
        "\n",
        "$ϵ_t$: present error term"
      ],
      "metadata": {
        "id": "--2pTm6w-0s3"
      }
    },
    {
      "cell_type": "markdown",
      "source": [
        "## Identifying the order q"
      ],
      "metadata": {
        "id": "j6QuoyHQChJv"
      }
    },
    {
      "cell_type": "markdown",
      "source": [
        "*   Using the ACF plot : the last point which doesn' land in the confidence interval (Moving Average model)\n",
        "*   Number of Differenciation"
      ],
      "metadata": {
        "id": "o2uWBd_wCplF"
      }
    },
    {
      "cell_type": "markdown",
      "source": [
        "We learned that in a moving average process, the present value is\n",
        "linearly dependent on current and past error terms. Therefore, if we predict more than q\n",
        "steps ahead, the prediction will fall flat and will return only the mean of the series because\n",
        "the error terms are not observed in the data and must be recursively estimated."
      ],
      "metadata": {
        "id": "BLxWdZ62EXz9"
      }
    },
    {
      "cell_type": "markdown",
      "source": [
        "Autocorrelation helps to compare the current value of a series with its previous values at different time lags."
      ],
      "metadata": {
        "id": "gwrqq39DrmsJ"
      }
    }
  ]
}